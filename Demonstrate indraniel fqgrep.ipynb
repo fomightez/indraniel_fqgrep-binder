{
 "cells": [
  {
   "cell_type": "markdown",
   "id": "a6131590-401c-4b1b-9057-1a1b83278390",
   "metadata": {},
   "source": [
    "## Demonstrating  Indraniel Das' fqgrep\n",
    "\n",
    "Since this software is quite old...\n",
    "You may be more interested [Fulcrum Genomics' fqgrep](https://github.com/fulcrumgenomics/fqgrep)!! It is much more current and better maintained than [Indraniel Das' fqgrep here](https://github.com/indraniel/fqgrep).  \n",
    "I have a nice demonstration site for Fulcrum Genomics' fqgrep that you can easily run via MyBinder-served sessions without installing anything on your machine, see [my fqgrep-binder repo](https://github.com/fomightez/fqgrep-binder).\n",
    "\n",
    "If you are still here...\n",
    "\n",
    "------\n",
    "\n",
    "### Usage"
   ]
  },
  {
   "cell_type": "markdown",
   "id": "8c3012cd-1f16-41de-bc99-72ba4359ea81",
   "metadata": {},
   "source": [
    "### Get some data to use:\n",
    "\n",
    "I happen to have some data in fastq format available as part of [my SICILIAN-binder repo](https://github.com/fomightez/SICILIAN-binder), so I'll use that for now.   "
   ]
  },
  {
   "cell_type": "code",
   "execution_count": 4,
   "id": "4ea72179-d9f9-46f9-9eeb-c96c44d3a781",
   "metadata": {},
   "outputs": [
    {
     "name": "stdout",
     "output_type": "stream",
     "text": [
      "  % Total    % Received % Xferd  Average Speed   Time    Time     Time  Current\n",
      "                                 Dload  Upload   Total   Spent    Left  Speed\n",
      "  0     0    0     0    0     0      0      0 --:--:-- --:--:-- --:--:--     0\n",
      "100 4467k  100 4467k    0     0  2738k      0  0:00:01  0:00:01 --:--:-- 25.1M\n"
     ]
    }
   ],
   "source": [
    "!curl -OL https://github.com/fomightez/SICILIAN-binder/raw/refs/heads/master/demo_input/chr21_mapped_SRR12269911.fastq"
   ]
  },
  {
   "cell_type": "markdown",
   "id": "a92e56c5-b306-4a8a-8af8-c336ebeb0465",
   "metadata": {},
   "source": [
    "Let's rename it something more streamlined."
   ]
  },
  {
   "cell_type": "code",
   "execution_count": 5,
   "id": "17bd7ac5-24ec-4bb2-ab38-21611243e30e",
   "metadata": {},
   "outputs": [],
   "source": [
    "!mv chr21_mapped_SRR12269911.fastq demo.fastq"
   ]
  },
  {
   "cell_type": "markdown",
   "id": "73d02ef8-e78d-4dff-9b01-516394021a36",
   "metadata": {},
   "source": [
    "Since it says it works with FASTA, will convert this FASTQ file to that as well, so that we can try with both types of input:"
   ]
  },
  {
   "cell_type": "code",
   "execution_count": 6,
   "id": "e3b55fdd-d499-4ebb-ab4c-708fce5280b4",
   "metadata": {},
   "outputs": [],
   "source": [
    "%%bash\n",
    "awk '{if(NR%4==1) {printf(\">%s\\n\",substr($0,2));} else if(NR%4==2) print;}' demo.fastq > demo.fasta"
   ]
  },
  {
   "cell_type": "code",
   "execution_count": 7,
   "id": "15a0d6a0-7701-4ddd-baec-f284c348645a",
   "metadata": {},
   "outputs": [
    {
     "name": "stdout",
     "output_type": "stream",
     "text": [
      "demo.fasta  demo.fastq\n"
     ]
    }
   ],
   "source": [
    "ls *.fast*"
   ]
  },
  {
   "cell_type": "markdown",
   "id": "2938e760-1727-4efe-b5af-3654696a92aa",
   "metadata": {},
   "source": [
    "Now we are ready to try it.\n",
    "\n",
    "\n",
    "------\n",
    "\n",
    "### Usage"
   ]
  },
  {
   "cell_type": "code",
   "execution_count": 2,
   "id": "cfa9196b-3120-44af-9177-5c765846b994",
   "metadata": {},
   "outputs": [
    {
     "name": "stdout",
     "output_type": "stream",
     "text": [
      "Usage: fqgrep [options] -p <pattern> <fastq_or_fasta_files>\n",
      "\t-h                  This help message   \n",
      "\t-V                  Program and version information\n",
      "\t-p <STRING>         Pattern of interest to grep [REQUIRED]\n",
      "\t-v                  Invert match - show only sequences that \n",
      "\t                    DO NOT match the pattern\n",
      "\t-a                  Show all records irregardless of match status\n",
      "\t                    Useful in conjunction with the -r option;\n",
      "\t                    when one would like to do further post-processing\n",
      "\t                    of the match data   \n",
      "\t-c                  Highlight matching string with color\n",
      "\t-f                  Output matches in FASTA format\n",
      "\t-r                  Output matches in detailed stats report format\n",
      "\t-b <STRING>         Delimiter string to separate columns\n",
      "\t                    in detailed stats report [Default: '\\t']\n",
      "\t-m <INT>            Total number of mismatches to at most allow for\n",
      "\t                    in search pattern [Default: 0]\n",
      "\t-s <INT>            Max threshold of substitution mismatches to allow\n",
      "\t                    for in search pattern [Default: unlimited]\n",
      "\t-i <INT>            Max threshold of insertion mismatches to allow for\n",
      "\t                    in search pattern [Default: unlimited]\n",
      "\t-d <INT>            Max threshold of deletion mismatches to allow for\n",
      "\t                    in search pattern [Default: unlimited]\n",
      "\t-S <INT>            Cost of base substitutions in obtaining\n",
      "\t                    approximate match [Default: 1]\n",
      "\t-I <INT>            Cost of base insertions in obtaining\n",
      "\t                    approximate match [Default: 1]\n",
      "\t-D <INT>            Cost of base deletions in obtaining\n",
      "\t                    approximate match [Default: 1]\n",
      "\t-e                  Force tre regexp engine usage\n",
      "\t-C                  Display only a total count of matches\n",
      "\t                    (per input FASTQ/FASTA file)\n",
      "\t-o <out_file>       Desired output file.\n",
      "\t                    If not specified, defaults to stdout\n"
     ]
    }
   ],
   "source": [
    "!fqgrep -h"
   ]
  },
  {
   "cell_type": "markdown",
   "id": "8dd4bb5a-d76a-4dd3-9d4b-e497c3724faa",
   "metadata": {},
   "source": [
    "Of course, if really running on command line and not in IPython or a Jupyter Notebook, leave off the exclamation point:\n",
    "\n",
    "```shell\n",
    "fqgrep --help\n",
    "```\n",
    "\n",
    "\n",
    "-------\n",
    "\n",
    "Basic fqgrep with a sequence, to match a single pattern in a single FASTQ file:\n"
   ]
  },
  {
   "cell_type": "code",
   "execution_count": 8,
   "id": "0512dd02-8bce-4ef4-8c32-7ca30b54765d",
   "metadata": {},
   "outputs": [
    {
     "name": "stdout",
     "output_type": "stream",
     "text": [
      "@SRR12269911.276027\n",
      "ATTATGAAGTGTTCCCAGTGCCACACCGTTGAAAAGGGAGGCAAGCACAAGACTGGGCCAAATCTCCATGGGCTCT\n",
      "+\n",
      "AAAAAEEEEEE/E/EEEEEEEEEEE/AEAAE/EEEE6EEEEEEEEE/E/EE/EA//EAEEEA<EEEE//E</EE/<\n",
      "@SRR12269911.389384\n",
      "ATGAAGTGTTCCCAGTGCCACACCGTTGAAAAGGGAGGAAAGCACAAGACTGGGCCAAATATCCATGGTCTCTTTT\n",
      "+\n",
      "A/AAAEEEEEEEAE/AEAEEEEEEA/EE//AE6EAEEE//A/AE/EEEEEE//E6E//EA/EE/EE/E<EEAEEE/\n",
      "@SRR12269911.415017\n",
      "ATGAAGTGTTCCCAGTGCCACACCGTTGAAAAGGGAGGCAAGCACAAGACTGGGCCAAATCTCCATGGTCTCTTTG\n",
      "+\n",
      "AAA/AEEEEEEAEEEAE/EAE/E<EAAEEA6EEEEAEEEE/AE/EEEEE<AEAEAAEE/AEE6EEEEEA6AEEEE/\n",
      "@SRR12269911.281462\n",
      "GTGCCACACCGTTGAAAAGGGAGGCAAGCACAAGACTGGGCCAAATCTCCATGGTCTCTTTGGGCGGAAGACAGGT\n",
      "+\n",
      "AAAAAEEEEEEEEEAEEEEEEEEEEEEEEEEEEEAEEEEEEEEEEEEEAEAEEEEEEEEEEEEEEEEEEEEEEEEE\n",
      "@SRR12269911.281954\n",
      "GTGCCACACCGTTGAAAAGGGAGGCAAGCACAAGACTGGGCCAAATCTCCATGGTCTCTTTGGGCGGAAGACAGGT\n",
      "+\n",
      "AAAAAEE/EEEEEEEEEEEEEEEEEEEEEEEAEEEEEEEEEEEAEEEAEEEEEE<EEEEEEEAEEEEEE/EEAEEE\n"
     ]
    }
   ],
   "source": [
    "!fqgrep -p 'ACAAGACTGG' ./demo.fastq"
   ]
  },
  {
   "cell_type": "markdown",
   "id": "41ee9945-0124-4c48-9ac2-2934a346f0e5",
   "metadata": {},
   "source": [
    "fqgrep offes several options. For example, for being able to tell where the match occurs, the `-c` flag is really nice because it colors the match in the output."
   ]
  },
  {
   "cell_type": "code",
   "execution_count": 9,
   "id": "594aeaff-1660-49b8-971b-a53eeb85d822",
   "metadata": {},
   "outputs": [
    {
     "name": "stdout",
     "output_type": "stream",
     "text": [
      "@SRR12269911.276027\n",
      "ATTATGAAGTGTTCCCAGTGCCACACCGTTGAAAAGGGAGGCAAGC\u001b[31mACAAGACTGG\u001b[0mGCCAAATCTCCATGGGCTCT\n",
      "+\n",
      "AAAAAEEEEEE/E/EEEEEEEEEEE/AEAAE/EEEE6EEEEEEEEE/E/EE/EA//EAEEEA<EEEE//E</EE/<\n",
      "@SRR12269911.389384\n",
      "ATGAAGTGTTCCCAGTGCCACACCGTTGAAAAGGGAGGAAAGC\u001b[31mACAAGACTGG\u001b[0mGCCAAATATCCATGGTCTCTTTT\n",
      "+\n",
      "A/AAAEEEEEEEAE/AEAEEEEEEA/EE//AE6EAEEE//A/AE/EEEEEE//E6E//EA/EE/EE/E<EEAEEE/\n",
      "@SRR12269911.415017\n",
      "ATGAAGTGTTCCCAGTGCCACACCGTTGAAAAGGGAGGCAAGC\u001b[31mACAAGACTGG\u001b[0mGCCAAATCTCCATGGTCTCTTTG\n",
      "+\n",
      "AAA/AEEEEEEAEEEAE/EAE/E<EAAEEA6EEEEAEEEE/AE/EEEEE<AEAEAAEE/AEE6EEEEEA6AEEEE/\n",
      "@SRR12269911.281462\n",
      "GTGCCACACCGTTGAAAAGGGAGGCAAGC\u001b[31mACAAGACTGG\u001b[0mGCCAAATCTCCATGGTCTCTTTGGGCGGAAGACAGGT\n",
      "+\n",
      "AAAAAEEEEEEEEEAEEEEEEEEEEEEEEEEEEEAEEEEEEEEEEEEEAEAEEEEEEEEEEEEEEEEEEEEEEEEE\n",
      "@SRR12269911.281954\n",
      "GTGCCACACCGTTGAAAAGGGAGGCAAGC\u001b[31mACAAGACTGG\u001b[0mGCCAAATCTCCATGGTCTCTTTGGGCGGAAGACAGGT\n",
      "+\n",
      "AAAAAEE/EEEEEEEEEEEEEEEEEEEEEEEAEEEEEEEEEEEAEEEAEEEEEE<EEEEEEEAEEEEEE/EEAEEE\n"
     ]
    }
   ],
   "source": [
    "!fqgrep -c -p 'ACAAGACTGG' ./demo.fastq"
   ]
  },
  {
   "cell_type": "markdown",
   "id": "ca7789b6-c7bc-426f-8f08-66a6cc209f1c",
   "metadata": {},
   "source": [
    "Note, that the method this uses to store the color also passes through to the file. Let's make a file to demonstrate that."
   ]
  },
  {
   "cell_type": "code",
   "execution_count": 10,
   "id": "39a6f951-0b3b-4781-8ddf-60ba8aeb60af",
   "metadata": {},
   "outputs": [],
   "source": [
    "!fqgrep -c -p 'ACAAGACTGG' ./demo.fastq > output.txt"
   ]
  },
  {
   "cell_type": "code",
   "execution_count": null,
   "id": "b060c474-7079-404c-a718-baf661cd6d49",
   "metadata": {},
   "outputs": [],
   "source": [
    "Now when we read the file, we see the colors still indicated."
   ]
  },
  {
   "cell_type": "code",
   "execution_count": 12,
   "id": "e57f941f-03f4-42a2-8b69-d7cd07c4b544",
   "metadata": {},
   "outputs": [
    {
     "name": "stdout",
     "output_type": "stream",
     "text": [
      "@SRR12269911.276027\n",
      "ATTATGAAGTGTTCCCAGTGCCACACCGTTGAAAAGGGAGGCAAGC\u001b[31mACAAGACTGG\u001b[0mGCCAAATCTCCATGGGCTCT\n",
      "+\n",
      "AAAAAEEEEEE/E/EEEEEEEEEEE/AEAAE/EEEE6EEEEEEEEE/E/EE/EA//EAEEEA<EEEE//E</EE/<\n",
      "@SRR12269911.389384\n",
      "ATGAAGTGTTCCCAGTGCCACACCGTTGAAAAGGGAGGAAAGC\u001b[31mACAAGACTGG\u001b[0mGCCAAATATCCATGGTCTCTTTT\n",
      "+\n",
      "A/AAAEEEEEEEAE/AEAEEEEEEA/EE//AE6EAEEE//A/AE/EEEEEE//E6E//EA/EE/EE/E<EEAEEE/\n",
      "@SRR12269911.415017\n",
      "ATGAAGTGTTCCCAGTGCCACACCGTTGAAAAGGGAGGCAAGC\u001b[31mACAAGACTGG\u001b[0mGCCAAATCTCCATGGTCTCTTTG\n",
      "+\n",
      "AAA/AEEEEEEAEEEAE/EAE/E<EAAEEA6EEEEAEEEE/AE/EEEEE<AEAEAAEE/AEE6EEEEEA6AEEEE/\n",
      "@SRR12269911.281462\n",
      "GTGCCACACCGTTGAAAAGGGAGGCAAGC\u001b[31mACAAGACTGG\u001b[0mGCCAAATCTCCATGGTCTCTTTGGGCGGAAGACAGGT\n",
      "+\n",
      "AAAAAEEEEEEEEEAEEEEEEEEEEEEEEEEEEEAEEEEEEEEEEEEEAEAEEEEEEEEEEEEEEEEEEEEEEEEE\n",
      "@SRR12269911.281954\n",
      "GTGCCACACCGTTGAAAAGGGAGGCAAGC\u001b[31mACAAGACTGG\u001b[0mGCCAAATCTCCATGGTCTCTTTGGGCGGAAGACAGGT\n",
      "+\n",
      "AAAAAEE/EEEEEEEEEEEEEEEEEEEEEEEAEEEEEEEEEEEAEEEAEEEEEE<EEEEEEEAEEEEEE/EEAEEE\n"
     ]
    }
   ],
   "source": [
    "!cat output.txt"
   ]
  },
  {
   "cell_type": "markdown",
   "id": "e6866192-0239-4e21-a77d-09aef16c3282",
   "metadata": {},
   "source": [
    "If you view the `output.txt` in a text editor, you'll actually see tags there and so you don't want to use this option for downstream uses, just for visualization.\n",
    "\n",
    "indraniel fqgrep can generate fancy reports, like so:"
   ]
  },
  {
   "cell_type": "code",
   "execution_count": 19,
   "id": "0a1c0437-9bf5-4e36-936a-38ed55746856",
   "metadata": {},
   "outputs": [
    {
     "name": "stdout",
     "output_type": "stream",
     "text": [
      "read name\tread comments\ttotal mismatches\t# insertions\t# deletions\t# substitutions\tstart position\tend position\tmatch string\tsequence\tquality\n",
      "SRR12269911.276027\t-\t0\t0\t0\t0\t46\t56\tACAAGACTGG\tATTATGAAGTGTTCCCAGTGCCACACCGTTGAAAAGGGAGGCAAGC\u001b[31mACAAGACTGG\u001b[0mGCCAAATCTCCATGGGCTCT\tAAAAAEEEEEE/E/EEEEEEEEEEE/AEAAE/EEEE6EEEEEEEEE/E/EE/EA//EAEEEA<EEEE//E</EE/<\n",
      "SRR12269911.389384\t-\t0\t0\t0\t0\t43\t53\tACAAGACTGG\tATGAAGTGTTCCCAGTGCCACACCGTTGAAAAGGGAGGAAAGC\u001b[31mACAAGACTGG\u001b[0mGCCAAATATCCATGGTCTCTTTT\tA/AAAEEEEEEEAE/AEAEEEEEEA/EE//AE6EAEEE//A/AE/EEEEEE//E6E//EA/EE/EE/E<EEAEEE/\n",
      "SRR12269911.415017\t-\t0\t0\t0\t0\t43\t53\tACAAGACTGG\tATGAAGTGTTCCCAGTGCCACACCGTTGAAAAGGGAGGCAAGC\u001b[31mACAAGACTGG\u001b[0mGCCAAATCTCCATGGTCTCTTTG\tAAA/AEEEEEEAEEEAE/EAE/E<EAAEEA6EEEEAEEEE/AE/EEEEE<AEAEAAEE/AEE6EEEEEA6AEEEE/\n",
      "SRR12269911.281462\t-\t0\t0\t0\t0\t29\t39\tACAAGACTGG\tGTGCCACACCGTTGAAAAGGGAGGCAAGC\u001b[31mACAAGACTGG\u001b[0mGCCAAATCTCCATGGTCTCTTTGGGCGGAAGACAGGT\tAAAAAEEEEEEEEEAEEEEEEEEEEEEEEEEEEEAEEEEEEEEEEEEEAEAEEEEEEEEEEEEEEEEEEEEEEEEE\n",
      "SRR12269911.281954\t-\t0\t0\t0\t0\t29\t39\tACAAGACTGG\tGTGCCACACCGTTGAAAAGGGAGGCAAGC\u001b[31mACAAGACTGG\u001b[0mGCCAAATCTCCATGGTCTCTTTGGGCGGAAGACAGGT\tAAAAAEE/EEEEEEEEEEEEEEEEEEEEEEEAEEEEEEEEEEEAEEEAEEEEEE<EEEEEEEAEEEEEE/EEAEEE\n"
     ]
    }
   ],
   "source": [
    "!fqgrep -rc -p 'ACAAGACTGG' ./demo.fastq"
   ]
  },
  {
   "cell_type": "markdown",
   "id": "d30bee8b-9982-4f60-b1c1-71bb8f7650f9",
   "metadata": {},
   "source": [
    "If we just want the number of matches:"
   ]
  },
  {
   "cell_type": "code",
   "execution_count": 21,
   "id": "1214e1f8-4bd7-4fda-9c4b-c71557e0060b",
   "metadata": {},
   "outputs": [
    {
     "name": "stdout",
     "output_type": "stream",
     "text": [
      "./demo.fastq : 5 matches\n"
     ]
    }
   ],
   "source": [
    "!fqgrep -C -p 'ACAAGACTGG' ./demo.fastq"
   ]
  },
  {
   "cell_type": "markdown",
   "id": "8f0ff36d-1ad5-4417-b102-c664c53b1ed6",
   "metadata": {},
   "source": [
    "Input can be FASTA as well."
   ]
  },
  {
   "cell_type": "code",
   "execution_count": 2,
   "id": "f177d5a8-87fe-4a6f-a1c5-09ad9dc3e72f",
   "metadata": {},
   "outputs": [
    {
     "name": "stdout",
     "output_type": "stream",
     "text": [
      "@SRR12269911.276027\n",
      "ATTATGAAGTGTTCCCAGTGCCACACCGTTGAAAAGGGAGGCAAGC\u001b[31mACAAGACTGG\u001b[0mGCCAAATCTCCATGGGCTCT\n",
      "+\n",
      "\n",
      "@SRR12269911.389384\n",
      "ATGAAGTGTTCCCAGTGCCACACCGTTGAAAAGGGAGGAAAGC\u001b[31mACAAGACTGG\u001b[0mGCCAAATATCCATGGTCTCTTTT\n",
      "+\n",
      "\n",
      "@SRR12269911.415017\n",
      "ATGAAGTGTTCCCAGTGCCACACCGTTGAAAAGGGAGGCAAGC\u001b[31mACAAGACTGG\u001b[0mGCCAAATCTCCATGGTCTCTTTG\n",
      "+\n",
      "\n",
      "@SRR12269911.281462\n",
      "GTGCCACACCGTTGAAAAGGGAGGCAAGC\u001b[31mACAAGACTGG\u001b[0mGCCAAATCTCCATGGTCTCTTTGGGCGGAAGACAGGT\n",
      "+\n",
      "\n",
      "@SRR12269911.281954\n",
      "GTGCCACACCGTTGAAAAGGGAGGCAAGC\u001b[31mACAAGACTGG\u001b[0mGCCAAATCTCCATGGTCTCTTTGGGCGGAAGACAGGT\n",
      "+\n",
      "\n"
     ]
    }
   ],
   "source": [
    "!fqgrep -c -p 'ACAAGACTGG' ./demo.fasta"
   ]
  },
  {
   "cell_type": "markdown",
   "id": "6ad86b56-7e69-466f-8fca-d88418d395a3",
   "metadata": {},
   "source": [
    "Just be aware how the output format displays the results in a manner that looks like FASTQ, even though the input file is clearly FASTA format as the next cell shows:"
   ]
  },
  {
   "cell_type": "code",
   "execution_count": 4,
   "id": "f9af8fc3-0c04-423d-a240-1ed3498d3af5",
   "metadata": {},
   "outputs": [
    {
     "name": "stdout",
     "output_type": "stream",
     "text": [
      ">SRR12269911.345984\n",
      "CTCACTATGTTGCCAAGGCTGCTCACAAACTCCTGGACTCAAGCCATCCTCCTGCCTTGGCACCCCAAAGTGCTGG\n",
      ">SRR12269911.209055\n",
      "CTACTAAACATACAAAAATTAGCCAGGAGTGGTGGCGCCTGCCTGTAGTCCCAGCTACTCAGGAGGCTGAGGCAGG\n",
      ">SRR12269911.284710\n",
      "GGGTTCCAGCGATTCTCCTGCCTGAGCCTCCCGGGTAGCTGAGATTACAGGGACATGACACCCCGCCCGGCTACTT\n",
      ">SRR12269911.149889\n",
      "GTCCCGGCTACTTGGGAGGCTGAGGTGGGAGAATTTCTGGAACCTGGGAGGCGGAGGCTGCAGTGACCTGAGATTG\n",
      ">SRR12269911.44184\n",
      "GAGTACAGTGGTGTGATCTCAGTTCACTGCTATCTCTGCCTCCCGGGTTCAAGCAATTCTGTCTCAGCCTCCAGAG\n"
     ]
    }
   ],
   "source": [
    "!head ./demo.fasta"
   ]
  },
  {
   "cell_type": "code",
   "execution_count": 1,
   "id": "57df8ad5-acb7-4fef-b31b-b9d492766cf9",
   "metadata": {},
   "outputs": [
    {
     "name": "stdout",
     "output_type": "stream",
     "text": [
      "./demo.fasta : 5 matches\n"
     ]
    }
   ],
   "source": [
    "!fqgrep -C -p 'ACAAGACTGG' ./demo.fasta"
   ]
  },
  {
   "cell_type": "markdown",
   "id": "8486e39a-c4cb-4483-80db-7a2c57230b9f",
   "metadata": {},
   "source": [
    "-----\n",
    "\n",
    "### Combine with Python / Jupyter Conveniences"
   ]
  },
  {
   "cell_type": "markdown",
   "id": "db8ff481-1da1-45ac-947f-4cae3fb2a482",
   "metadata": {},
   "source": [
    "Of course, when running in Jupyter with an ipykernel, fqgrep use can be combined in code to take advantage of Python variables and additional available Jupyter conveniences, like so for instance:"
   ]
  },
  {
   "cell_type": "code",
   "execution_count": 20,
   "id": "71cc23de-24a9-4105-a2a9-0e7e33b5cb67",
   "metadata": {},
   "outputs": [
    {
     "name": "stdout",
     "output_type": "stream",
     "text": [
      "@SRR12269911.51990\n",
      "CCTCAAGTGGGTCCCTGACCCACAAGTAGCTTAACTGG\u001b[31mGAGGCAAC\u001b[0mCCCCAGTAGGGGCAGACTGACACCTCACAC\n",
      "+\n",
      "AAAAAEEEEEEEEEEEEEEEEEEEEEEAEEEEEEEEEEE6EEE//EEEEEEEAEEEEEE/EAEAE/E6EEE</E/E\n",
      "@SRR12269911.195627\n",
      "CCTGATAAGATCTCAGGAGTTGGGTGAGTGGGCTCAAGCATGTGCACTAA\u001b[31mGAGGCAAC\u001b[0mATGGCAGAGTTTAAGTGG\n",
      "+\n",
      "AA6AAEA6EEEEEEEEEEEEEEEEEEEEEEEEEEEEEEEEEEEEEE/EA/EEEEEE/EEEEEE/EEAEEE/EAEEA\n",
      "@SRR12269911.374754\n",
      "GTTAACCTCACTCCACGTGTGTCTGTGTCCTTAATTTCCTTGGCAT\u001b[31mGAGGCAAC\u001b[0mGAATCTCGGGTATTACCCCAGA\n",
      "+\n",
      "AAAAAEEEEEEEEEEEEEEEEEEEEEEEEEEEAEEEEEEEEEEEEEEEEEEEEEAEAEAEAEEEEAEEEEEAEEEE\n",
      "@SRR12269911.158183\n",
      "CTGTAATCCCAGCACTTTGGAAGGCTGAGGTGAGAGGATCACTTGAGCCCAGTAGTTT\u001b[31mGAGGCAAC\u001b[0mATAGTGAGAT\n",
      "+\n",
      "AAAAAEEEEEEEEEEAEEEEEEEEEAEEEEEEEEEEEEEEEEEEEEEEAAEEEEEAAEEEEEEEEEEEEEEEEEEE\n",
      "@SRR12269911.258882\n",
      "ATGTGACTGGAGTGAGCAGGGGA\u001b[31mGAGGCAAC\u001b[0mCAACTCAGGAGTCAGATCCCTGGCCAGACTAAAAGCGAACATTCA\n",
      "+\n",
      "AAAAAEEEEEEEEEEEEEEEEEEEEEEEE/EEEAEEEEEEEEEEEE/EEEEEEEEAEEEEE/EE/EEEEEAEEEE<\n",
      "@SRR12269911.24121\n",
      "GCTCA\u001b[31mGAGGCAAC\u001b[0mTTCCTCTTCCCTTGAACTCCGGATCAGCCTTTCCAGGTGCTTTAGTCGTTCGCCTAGACACGT\n",
      "+\n",
      "AAAAAEEEEEEAEEEAEEEAEEEE<EEEEEEEEE/EAEEEEEEE<<E/EEEEEEEEEEEEE/EEAEEEA/AEAE/6\n"
     ]
    }
   ],
   "source": [
    "my_seq = \"GAGGCAAC\"\n",
    "!fqgrep -cp '{my_seq}' ./demo.fastq"
   ]
  },
  {
   "cell_type": "markdown",
   "id": "710628bc-c4e8-4093-a63b-3a938cee80cc",
   "metadata": {},
   "source": [
    "The ability that offers starts to touch on why you'd want to combine like that.\n",
    "For example, imagine if you had several sequences to search.    \n",
    "Well you can use something like:\n",
    "\n",
    "```\n",
    "!fqgrep -c -p 'GCGATTAA' -p 'GACATTAA' ./demo.fastq\n",
    "```\n",
    "\n",
    "But imagine for downstream use, it was important you knew which was derived from each sequence.  \n",
    "So you could do this:"
   ]
  },
  {
   "cell_type": "code",
   "execution_count": 28,
   "id": "089b51f7-e6e6-4e18-a40a-95df7a7f825c",
   "metadata": {},
   "outputs": [],
   "source": [
    "my_seq1 = \"GCGATTAA\"\n",
    "my_seq2 = \"GACATTAA\"\n",
    "seq_list = [my_seq1,my_seq2]\n",
    "for the_seq in seq_list:\n",
    "    !fqgrep -c -p '{the_seq}' ./demo.fastq > {the_seq}_search_results.txt"
   ]
  },
  {
   "cell_type": "markdown",
   "id": "68504801-b01e-4000-a17d-257adbc8e751",
   "metadata": {},
   "source": [
    "Now to look at the results:"
   ]
  },
  {
   "cell_type": "code",
   "execution_count": 29,
   "id": "46d4a148-1286-4b28-90e2-a370b176fac1",
   "metadata": {},
   "outputs": [
    {
     "name": "stdout",
     "output_type": "stream",
     "text": [
      "@SRR12269911.77594\n",
      "ATATCAGGTTGCAGCGGCAGAGAGCCATCCTCTATAAGCGGCTGAAAGTGCCTCCT\u001b[31mGCGATTAA\u001b[0mCCAGTTCACCCA\n",
      "+\n",
      "AAAAAEEEEEEEEEEEEEEEEEEEEEAEEEEEEEEEAEEEEEEEEEEEEEEEEEEEEEEEEEEEEEEEEEEEAEE/\n",
      "@SRR12269911.248887\n",
      "ATATCAGGTTGCAGCGGCAGAGAGCCATCCTCTATAAGCGGCTGAAAGTGCCTCCT\u001b[31mGCGATTAA\u001b[0mCCAGTTCACCCA\n",
      "+\n",
      "AAAAAEEEEEEEEEEEEEAEEEEEEE/EEEEEEEEEEEEEEEEEEEEEEEEEEEEEEEEEEEEEEEEEAEEAEEE<\n"
     ]
    }
   ],
   "source": [
    "!cat GCGATTAA_search_results.txt"
   ]
  },
  {
   "cell_type": "code",
   "execution_count": 30,
   "id": "304672d2-2f12-42d8-b480-19517baf7723",
   "metadata": {},
   "outputs": [
    {
     "name": "stdout",
     "output_type": "stream",
     "text": [
      "@SRR12269911.223267\n",
      "CCCGTACACTGTGCTTGGACAAATACCTGCTAGTGCTGCTTGGTTCACATGCTTG\u001b[31mGACATTAA\u001b[0mAGATGCATTCTTC\n",
      "+\n",
      "AAAAAEEEEEEEEEAEEE/EEEEE/EEEEEEEEEEEEEEE6EEEEEAEEEEEEEEEEAAEE6E/EEAEEEEEA<E<\n",
      "@SRR12269911.98049\n",
      "CAGAAACTGGTTTGGACTAAGAAAGCCAGAGTGCAGAATCTGGATGAGGTGAAACC\u001b[31mGACATTAA\u001b[0mTAAACCTCCAAG\n",
      "+\n",
      "AAAAAEEEEEEEEEEEEEEEEAEEEEEAEEEEEEEEEEEEEEEEEEEEEEEEEAEEE/EEEEEEEEEEEEEEEEEE\n",
      "@SRR12269911.396878\n",
      "CCT\u001b[31mGACATTAA\u001b[0mATAAAACTCCAAAAATTAAATTCTGGCCCTCAAACCCCACAACAGGACTTAATTAACCCTGTCTC\n",
      "+\n",
      "AAAAAE6EE6EEEEEEEEEEEEEEEEEEAEEEEEEEEEEEEEAE/EEEEEEEEEEEEEEEEEEEEEEEEEEEEEEA\n",
      "@SRR12269911.373844\n",
      "AGACTTTTCTTTGAAGGATGACTACA\u001b[31mGACATTAA\u001b[0mATAATCGAAGTAATTTTGGGTGGGGAGAAGAGGCAGATTCAA\n",
      "+\n",
      "AAAAAEEEE/E/EEE/EEEE/EEEEAEEAE/EEEAEEEEEEAEEEAEE/E/AEEEEEAEEAE/AAEEEEAEEE</E\n",
      "@SRR12269911.293306\n",
      "AAATAACCCCGGGCAAGACTTTTCTTTGAAGGATGACTACA\u001b[31mGACATTAA\u001b[0mATAATCGAAGTAATTTTGGGTGGGGAG\n",
      "+\n",
      "AAAAAEEEEEEEEEEEEEEEEEEEEEEEAEEEEEEEEEEEEEEEEEEEAEEEEEEEEEEEEEEEEEEEEAEEEEEE\n",
      "@SRR12269911.176846\n",
      "GTATTACATAAATAAATTAAATAAAATAACCCCGGGCAAGACTTTTCTTTGAAGGATGACTACA\u001b[31mGACATTAA\u001b[0mATAA\n",
      "+\n",
      "AAAAAEAEEAEEE6EEEEEEEEEEEEEE6A<<EEE/AEEEEEEEEEEEAEEAEEEEA<EEEA6<EEAEEEEAEEA6\n",
      "@SRR12269911.177060\n",
      "GTTCTGTACAGATATAT\u001b[31mGACATTAA\u001b[0mAAAATAATCCCAAAAACTTCTTCTCTAAGGTTAATAAAAGGTCGGCAGTTT\n",
      "+\n",
      "AAAAAEEEEEEEEEEEEEEEEEEEEEEEEEEEEEEEEEEEEEEEEEEEAEEEEEEEEAEEAEEEEEEEEEEEEEEE\n",
      "@SRR12269911.23735\n",
      "GTACAGATATAT\u001b[31mGACATTAA\u001b[0mAAAATAATCCCAAAAACTTCTTCTCTAAGGTTAATAAAAGGTCGGCAGTTTTGATC\n",
      "+\n",
      "AAAAAEEEEEE6EEEEEEEEE/EEEEEEEEEEEEEEEEEEEEEEEEEEEEEAEEEEEAEEEEEEEEEEEEEEEAEE\n",
      "@SRR12269911.188120\n",
      "AAAAAACAACATGGTAATAGAAGTAATTTAAAATGTTCAA\u001b[31mGACATTAA\u001b[0mATGCAGGACTGACTCCATATTGCCATTT\n",
      "+\n",
      "AAAAAEEEEEEEEEE6EEAEEEEEAEEEEEEEEEEEEEEEEEEEEEEEEEEEEEEEEEEEEEEEEAEEEEEEEEEA\n",
      "@SRR12269911.254078\n",
      "ATGTTCAA\u001b[31mGACATTAA\u001b[0mATGCAGGACTGACTCCATATTGCCATTTAATATGCTTTGTATTATAGGATATAAAAACTA\n",
      "+\n",
      "AAAAAEEEEAEEEEEEEEEEEEEEEEEEEEEEEAEEEEEEEEEEEEEEEEEEAEEEEAEAEAEEEEAEEAEEAEEA\n"
     ]
    }
   ],
   "source": [
    "!cat GACATTAA_search_results.txt"
   ]
  },
  {
   "cell_type": "markdown",
   "id": "ec5c044d-e818-4efc-83f6-1e09f5550e50",
   "metadata": {},
   "source": [
    "`GCGATTAA_search_results.txt` only has two and it would have been hard to find if we mixed them in.\n",
    "\n",
    "Of course, we could have just ran the searches in turn; however, imagine instead of two sequences, we had ten to search, and then quickly it becomes apparent how much convenience this offers."
   ]
  },
  {
   "cell_type": "markdown",
   "id": "a6dd609d-86b7-4466-a72f-e2ede7c55869",
   "metadata": {},
   "source": [
    "----------------\n",
    "\n",
    "#### Regular Expressions as patterns\n",
    "\n",
    "Can use regular expressions.  \n",
    "The next two cells will show that. The code only differs by the additon of a `?` and the regular expressions options flag, `-e`:"
   ]
  },
  {
   "cell_type": "code",
   "execution_count": 32,
   "id": "f0583340-f1fc-4adb-a5b0-2bfadd0a0535",
   "metadata": {},
   "outputs": [
    {
     "name": "stdout",
     "output_type": "stream",
     "text": [
      "@SRR12269911.288516\n",
      "AGTCTAGAGTGTTTGCTTTATTCATGTTGTTTAT\u001b[31mGCGTTAA\u001b[0mAATATAAGCATATTGCATACATAAGCATATTTACA\n",
      "+\n",
      "AAAAAAEEEEEEAEEEEEEEEEEEEEEEEEEEEEEAEEEAEEEEEEEEE<EEEEEEEEEEEEEEEE<EEEEEEEE/\n",
      "@SRR12269911.398076\n",
      "AGTCTAGAGTGTTTGCTTTATTCATGTTGTTTAT\u001b[31mGCGTTAA\u001b[0mAATATAAGCATATTGCATACATAAGCATATTTACA\n",
      "+\n",
      "A/A/AAEEEEEAAAEEEEEEEE/E///AA/AEEEEEE/EEAE/EEEE/E<EEEEE/<E/AEEEEEA/EE///<A//\n",
      "@SRR12269911.77594\n",
      "ATATCAGGTTGCAGCGGCAGAGAGCCATCCTCTATAAGCGGCTGAAAGTGCCTCCT\u001b[31mGCGATTAA\u001b[0mCCAGTTCACCCA\n",
      "+\n",
      "AAAAAEEEEEEEEEEEEEEEEEEEEEAEEEEEEEEEAEEEEEEEEEEEEEEEEEEEEEEEEEEEEEEEEEEEAEE/\n",
      "@SRR12269911.248887\n",
      "ATATCAGGTTGCAGCGGCAGAGAGCCATCCTCTATAAGCGGCTGAAAGTGCCTCCT\u001b[31mGCGATTAA\u001b[0mCCAGTTCACCCA\n",
      "+\n",
      "AAAAAEEEEEEEEEEEEEAEEEEEEE/EEEEEEEEEEEEEEEEEEEEEEEEEEEEEEEEEEEEEEEEEAEEAEEE<\n"
     ]
    }
   ],
   "source": [
    "!fqgrep -e -c -p 'GCGA?TTAA' ./demo.fastq"
   ]
  },
  {
   "cell_type": "code",
   "execution_count": 33,
   "id": "37213b20-8281-407f-b8b2-dc35bed1ee86",
   "metadata": {},
   "outputs": [
    {
     "name": "stdout",
     "output_type": "stream",
     "text": [
      "@SRR12269911.77594\n",
      "ATATCAGGTTGCAGCGGCAGAGAGCCATCCTCTATAAGCGGCTGAAAGTGCCTCCT\u001b[31mGCGATTAA\u001b[0mCCAGTTCACCCA\n",
      "+\n",
      "AAAAAEEEEEEEEEEEEEEEEEEEEEAEEEEEEEEEAEEEEEEEEEEEEEEEEEEEEEEEEEEEEEEEEEEEAEE/\n",
      "@SRR12269911.248887\n",
      "ATATCAGGTTGCAGCGGCAGAGAGCCATCCTCTATAAGCGGCTGAAAGTGCCTCCT\u001b[31mGCGATTAA\u001b[0mCCAGTTCACCCA\n",
      "+\n",
      "AAAAAEEEEEEEEEEEEEAEEEEEEE/EEEEEEEEEEEEEEEEEEEEEEEEEEEEEEEEEEEEEEEEEAEEAEEE<\n"
     ]
    }
   ],
   "source": [
    "!fqgrep -c -p 'GCGATTAA' ./demo.fastq"
   ]
  },
  {
   "cell_type": "markdown",
   "id": "fad37795-f206-40d4-9ee8-4c7d7285c576",
   "metadata": {},
   "source": [
    "See the difference?  \n",
    "`-e 'GCGA?TTAA'` allows matches to `GCGTTAA` or `GCGATTAA`."
   ]
  },
  {
   "cell_type": "markdown",
   "id": "2586663f-b2cb-48b5-9cf1-f3a8c91a6644",
   "metadata": {},
   "source": [
    "------\n",
    "\n",
    "Enjoy!"
   ]
  }
 ],
 "metadata": {
  "kernelspec": {
   "display_name": "Python 3 (ipykernel)",
   "language": "python",
   "name": "python3"
  },
  "language_info": {
   "codemirror_mode": {
    "name": "ipython",
    "version": 3
   },
   "file_extension": ".py",
   "mimetype": "text/x-python",
   "name": "python",
   "nbconvert_exporter": "python",
   "pygments_lexer": "ipython3",
   "version": "3.10.16"
  }
 },
 "nbformat": 4,
 "nbformat_minor": 5
}
